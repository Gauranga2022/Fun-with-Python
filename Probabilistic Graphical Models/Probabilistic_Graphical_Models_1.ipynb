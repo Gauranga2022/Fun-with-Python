{
  "nbformat": 4,
  "nbformat_minor": 0,
  "metadata": {
    "colab": {
      "provenance": []
    },
    "kernelspec": {
      "name": "python3",
      "display_name": "Python 3"
    },
    "language_info": {
      "name": "python"
    }
  },
  "cells": [
    {
      "cell_type": "markdown",
      "source": [
        "Here we are building and analyzing a Bayesian Network (BN) to model and infer relationships between different variables in a hypothetical student performance scenario. The network represents probabilistic dependencies and causal relationships among variables like Difficulty (D), Intelligence (I), Grade (G), SAT score (S), and Recommendation Letter (L)."
      ],
      "metadata": {
        "id": "qjJ3wjhGGONS"
      }
    },
    {
      "cell_type": "code",
      "source": [
        "!pip install pgmpy\n",
        "!apt-get install graphviz\n",
        "!pip install graphviz"
      ],
      "metadata": {
        "colab": {
          "base_uri": "https://localhost:8080/"
        },
        "id": "El9QuSktznEA",
        "outputId": "b3914472-6ad9-4eb4-f84a-3895d4e0b927"
      },
      "execution_count": null,
      "outputs": [
        {
          "output_type": "stream",
          "name": "stdout",
          "text": [
            "Requirement already satisfied: pgmpy in /usr/local/lib/python3.10/dist-packages (0.1.26)\n",
            "Requirement already satisfied: networkx in /usr/local/lib/python3.10/dist-packages (from pgmpy) (3.4.2)\n",
            "Requirement already satisfied: numpy in /usr/local/lib/python3.10/dist-packages (from pgmpy) (1.26.4)\n",
            "Requirement already satisfied: scipy in /usr/local/lib/python3.10/dist-packages (from pgmpy) (1.13.1)\n",
            "Requirement already satisfied: scikit-learn in /usr/local/lib/python3.10/dist-packages (from pgmpy) (1.5.2)\n",
            "Requirement already satisfied: pandas in /usr/local/lib/python3.10/dist-packages (from pgmpy) (2.2.2)\n",
            "Requirement already satisfied: pyparsing in /usr/local/lib/python3.10/dist-packages (from pgmpy) (3.2.0)\n",
            "Requirement already satisfied: torch in /usr/local/lib/python3.10/dist-packages (from pgmpy) (2.5.1+cu121)\n",
            "Requirement already satisfied: statsmodels in /usr/local/lib/python3.10/dist-packages (from pgmpy) (0.14.4)\n",
            "Requirement already satisfied: tqdm in /usr/local/lib/python3.10/dist-packages (from pgmpy) (4.66.6)\n",
            "Requirement already satisfied: joblib in /usr/local/lib/python3.10/dist-packages (from pgmpy) (1.4.2)\n",
            "Requirement already satisfied: opt-einsum in /usr/local/lib/python3.10/dist-packages (from pgmpy) (3.4.0)\n",
            "Requirement already satisfied: xgboost in /usr/local/lib/python3.10/dist-packages (from pgmpy) (2.1.3)\n",
            "Requirement already satisfied: google-generativeai in /usr/local/lib/python3.10/dist-packages (from pgmpy) (0.8.3)\n",
            "Requirement already satisfied: google-ai-generativelanguage==0.6.10 in /usr/local/lib/python3.10/dist-packages (from google-generativeai->pgmpy) (0.6.10)\n",
            "Requirement already satisfied: google-api-core in /usr/local/lib/python3.10/dist-packages (from google-generativeai->pgmpy) (2.19.2)\n",
            "Requirement already satisfied: google-api-python-client in /usr/local/lib/python3.10/dist-packages (from google-generativeai->pgmpy) (2.151.0)\n",
            "Requirement already satisfied: google-auth>=2.15.0 in /usr/local/lib/python3.10/dist-packages (from google-generativeai->pgmpy) (2.27.0)\n",
            "Requirement already satisfied: protobuf in /usr/local/lib/python3.10/dist-packages (from google-generativeai->pgmpy) (4.25.5)\n",
            "Requirement already satisfied: pydantic in /usr/local/lib/python3.10/dist-packages (from google-generativeai->pgmpy) (2.10.3)\n",
            "Requirement already satisfied: typing-extensions in /usr/local/lib/python3.10/dist-packages (from google-generativeai->pgmpy) (4.12.2)\n",
            "Requirement already satisfied: proto-plus<2.0.0dev,>=1.22.3 in /usr/local/lib/python3.10/dist-packages (from google-ai-generativelanguage==0.6.10->google-generativeai->pgmpy) (1.25.0)\n",
            "Requirement already satisfied: python-dateutil>=2.8.2 in /usr/local/lib/python3.10/dist-packages (from pandas->pgmpy) (2.8.2)\n",
            "Requirement already satisfied: pytz>=2020.1 in /usr/local/lib/python3.10/dist-packages (from pandas->pgmpy) (2024.2)\n",
            "Requirement already satisfied: tzdata>=2022.7 in /usr/local/lib/python3.10/dist-packages (from pandas->pgmpy) (2024.2)\n",
            "Requirement already satisfied: threadpoolctl>=3.1.0 in /usr/local/lib/python3.10/dist-packages (from scikit-learn->pgmpy) (3.5.0)\n",
            "Requirement already satisfied: patsy>=0.5.6 in /usr/local/lib/python3.10/dist-packages (from statsmodels->pgmpy) (1.0.1)\n",
            "Requirement already satisfied: packaging>=21.3 in /usr/local/lib/python3.10/dist-packages (from statsmodels->pgmpy) (24.2)\n",
            "Requirement already satisfied: filelock in /usr/local/lib/python3.10/dist-packages (from torch->pgmpy) (3.16.1)\n",
            "Requirement already satisfied: jinja2 in /usr/local/lib/python3.10/dist-packages (from torch->pgmpy) (3.1.4)\n",
            "Requirement already satisfied: fsspec in /usr/local/lib/python3.10/dist-packages (from torch->pgmpy) (2024.10.0)\n",
            "Requirement already satisfied: sympy==1.13.1 in /usr/local/lib/python3.10/dist-packages (from torch->pgmpy) (1.13.1)\n",
            "Requirement already satisfied: mpmath<1.4,>=1.1.0 in /usr/local/lib/python3.10/dist-packages (from sympy==1.13.1->torch->pgmpy) (1.3.0)\n",
            "Requirement already satisfied: nvidia-nccl-cu12 in /usr/local/lib/python3.10/dist-packages (from xgboost->pgmpy) (2.23.4)\n",
            "Requirement already satisfied: googleapis-common-protos<2.0.dev0,>=1.56.2 in /usr/local/lib/python3.10/dist-packages (from google-api-core->google-generativeai->pgmpy) (1.66.0)\n",
            "Requirement already satisfied: requests<3.0.0.dev0,>=2.18.0 in /usr/local/lib/python3.10/dist-packages (from google-api-core->google-generativeai->pgmpy) (2.32.3)\n",
            "Requirement already satisfied: cachetools<6.0,>=2.0.0 in /usr/local/lib/python3.10/dist-packages (from google-auth>=2.15.0->google-generativeai->pgmpy) (5.5.0)\n",
            "Requirement already satisfied: pyasn1-modules>=0.2.1 in /usr/local/lib/python3.10/dist-packages (from google-auth>=2.15.0->google-generativeai->pgmpy) (0.4.1)\n",
            "Requirement already satisfied: rsa<5,>=3.1.4 in /usr/local/lib/python3.10/dist-packages (from google-auth>=2.15.0->google-generativeai->pgmpy) (4.9)\n",
            "Requirement already satisfied: six>=1.5 in /usr/local/lib/python3.10/dist-packages (from python-dateutil>=2.8.2->pandas->pgmpy) (1.16.0)\n",
            "Requirement already satisfied: httplib2<1.dev0,>=0.19.0 in /usr/local/lib/python3.10/dist-packages (from google-api-python-client->google-generativeai->pgmpy) (0.22.0)\n",
            "Requirement already satisfied: google-auth-httplib2<1.0.0,>=0.2.0 in /usr/local/lib/python3.10/dist-packages (from google-api-python-client->google-generativeai->pgmpy) (0.2.0)\n",
            "Requirement already satisfied: uritemplate<5,>=3.0.1 in /usr/local/lib/python3.10/dist-packages (from google-api-python-client->google-generativeai->pgmpy) (4.1.1)\n",
            "Requirement already satisfied: MarkupSafe>=2.0 in /usr/local/lib/python3.10/dist-packages (from jinja2->torch->pgmpy) (3.0.2)\n",
            "Requirement already satisfied: annotated-types>=0.6.0 in /usr/local/lib/python3.10/dist-packages (from pydantic->google-generativeai->pgmpy) (0.7.0)\n",
            "Requirement already satisfied: pydantic-core==2.27.1 in /usr/local/lib/python3.10/dist-packages (from pydantic->google-generativeai->pgmpy) (2.27.1)\n",
            "Requirement already satisfied: grpcio<2.0dev,>=1.33.2 in /usr/local/lib/python3.10/dist-packages (from google-api-core[grpc]!=2.0.*,!=2.1.*,!=2.10.*,!=2.2.*,!=2.3.*,!=2.4.*,!=2.5.*,!=2.6.*,!=2.7.*,!=2.8.*,!=2.9.*,<3.0.0dev,>=1.34.1->google-ai-generativelanguage==0.6.10->google-generativeai->pgmpy) (1.68.1)\n",
            "Requirement already satisfied: grpcio-status<2.0.dev0,>=1.33.2 in /usr/local/lib/python3.10/dist-packages (from google-api-core[grpc]!=2.0.*,!=2.1.*,!=2.10.*,!=2.2.*,!=2.3.*,!=2.4.*,!=2.5.*,!=2.6.*,!=2.7.*,!=2.8.*,!=2.9.*,<3.0.0dev,>=1.34.1->google-ai-generativelanguage==0.6.10->google-generativeai->pgmpy) (1.62.3)\n",
            "Requirement already satisfied: pyasn1<0.7.0,>=0.4.6 in /usr/local/lib/python3.10/dist-packages (from pyasn1-modules>=0.2.1->google-auth>=2.15.0->google-generativeai->pgmpy) (0.6.1)\n",
            "Requirement already satisfied: charset-normalizer<4,>=2 in /usr/local/lib/python3.10/dist-packages (from requests<3.0.0.dev0,>=2.18.0->google-api-core->google-generativeai->pgmpy) (3.4.0)\n",
            "Requirement already satisfied: idna<4,>=2.5 in /usr/local/lib/python3.10/dist-packages (from requests<3.0.0.dev0,>=2.18.0->google-api-core->google-generativeai->pgmpy) (3.10)\n",
            "Requirement already satisfied: urllib3<3,>=1.21.1 in /usr/local/lib/python3.10/dist-packages (from requests<3.0.0.dev0,>=2.18.0->google-api-core->google-generativeai->pgmpy) (2.2.3)\n",
            "Requirement already satisfied: certifi>=2017.4.17 in /usr/local/lib/python3.10/dist-packages (from requests<3.0.0.dev0,>=2.18.0->google-api-core->google-generativeai->pgmpy) (2024.8.30)\n",
            "Reading package lists... Done\n",
            "Building dependency tree... Done\n",
            "Reading state information... Done\n",
            "graphviz is already the newest version (2.42.2-6ubuntu0.1).\n",
            "0 upgraded, 0 newly installed, 0 to remove and 49 not upgraded.\n",
            "Requirement already satisfied: graphviz in /usr/local/lib/python3.10/dist-packages (0.20.3)\n"
          ]
        }
      ]
    },
    {
      "cell_type": "code",
      "source": [
        "import pgmpy\n",
        "from pgmpy.models import BayesianNetwork\n",
        "from pgmpy.factors.discrete import TabularCPD\n",
        "from pgmpy.inference import VariableElimination\n",
        "from graphviz import Digraph\n",
        "from IPython.display import Image"
      ],
      "metadata": {
        "collapsed": true,
        "id": "KxvwNH-ssE7-"
      },
      "execution_count": null,
      "outputs": []
    },
    {
      "cell_type": "code",
      "source": [
        "# Define the Bayesian Network structure\n",
        "dot = Digraph()\n",
        "\n",
        "# Add nodes\n",
        "dot.node('D', 'Difficulty')\n",
        "dot.node('I', 'Intelligence')\n",
        "dot.node('G', 'Grade')\n",
        "dot.node('S', 'SAT')\n",
        "dot.node('L', 'Letter')\n",
        "\n",
        "# Add edges\n",
        "dot.edges([('D', 'G'), ('I', 'G'), ('I', 'S'), ('G', 'L')])\n",
        "\n",
        "# Render the graph as markdown\n",
        "dot.format = 'png'\n",
        "dot.render('students_bn', cleanup=True)\n",
        "\n",
        "# Display the graph\n",
        "from IPython.display import Image\n",
        "Image(filename='students_bn.png')"
      ],
      "metadata": {
        "colab": {
          "base_uri": "https://localhost:8080/",
          "height": 268
        },
        "collapsed": true,
        "id": "3GJLy3yHzyd-",
        "outputId": "43a9155f-8b13-4f33-93f6-f39e943b94b2"
      },
      "execution_count": null,
      "outputs": [
        {
          "output_type": "execute_result",
          "data": {
            "image/png": "[encoded data removed]",
            "text/plain": [
              "<IPython.core.display.Image object>"
            ]
          },
          "metadata": {},
          "execution_count": 18
        }
      ]
    },
    {
      "cell_type": "code",
      "execution_count": null,
      "metadata": {
        "id": "Yusbn7cWrR6n"
      },
      "outputs": [],
      "source": [
        "# Define the structure of the Bayesian Network\n",
        "student_bn = BayesianNetwork([\n",
        "    ('D', 'G'),  # Difficulty influences Grade\n",
        "    ('I', 'G'),  # Intelligence influences Grade\n",
        "    ('I', 'S'),  # Intelligence influences SAT\n",
        "    ('G', 'L')   # Grade influences Letter\n",
        "])\n",
        "\n",
        "# Define the Conditional Probability Distributions (CPTs)\n",
        "\n",
        "# CPT for Difficulty (D)\n",
        "cpd_d = TabularCPD(variable='D', variable_card=2, values=[[0.6], [0.4]])  # P(D=0)=0.6, P(D=1)=0.4\n",
        "\n",
        "# CPT for Intelligence (I)\n",
        "cpd_i = TabularCPD(variable='I', variable_card=2, values=[[0.7], [0.3]])  # P(I=0)=0.7, P(I=1)=0.3\n",
        "\n",
        "# CPT for SAT (S) given Intelligence (I)\n",
        "cpd_s = TabularCPD(variable='S', variable_card=2,\n",
        "                   values=[[0.95, 0.2],  # P(S=0 | I=0)=0.95, P(S=0 | I=1)=0.2\n",
        "                           [0.05, 0.8]], # P(S=1 | I=0)=0.05, P(S=1 | I=1)=0.8\n",
        "                   evidence=['I'], evidence_card=[2])\n",
        "\n",
        "# CPT for Grade (G) given Difficulty (D) and Intelligence (I)\n",
        "cpd_g = TabularCPD(variable='G', variable_card=3,\n",
        "                   values=[[0.3, 0.05, 0.9, 0.5],  # P(G=A | D=0, I=0)=0.3, etc.\n",
        "                           [0.4, 0.25, 0.08, 0.3],\n",
        "                           [0.3, 0.7, 0.02, 0.2]],\n",
        "                   evidence=['D', 'I'], evidence_card=[2, 2])\n",
        "\n",
        "# CPT for Letter (L) given Grade (G)\n",
        "cpd_l = TabularCPD(variable='L', variable_card=2,\n",
        "                   values=[[0.1, 0.4, 0.99],  # P(L=0 | G=A)=0.1, etc.\n",
        "                           [0.9, 0.6, 0.01]], # P(L=1 | G=A)=0.9, etc.\n",
        "                   evidence=['G'], evidence_card=[3])\n",
        "\n",
        "# Add the CPDs to the model\n",
        "student_bn.add_cpds(cpd_d, cpd_i, cpd_s, cpd_g, cpd_l)\n",
        "\n",
        "# Check if the model is valid\n",
        "assert student_bn.check_model(), \"Bayesian Network model is invalid!\"\n",
        "\n",
        "# Perform Inference\n",
        "inference = VariableElimination(student_bn)"
      ]
    },
    {
      "cell_type": "markdown",
      "source": [
        "**Key Idea**\n",
        "\n",
        "-   If $X$ and $Y$ are **independent**, then: $$P(X∣Y)=P(X)$$\n",
        "-   If $X$ and $Y$ are **conditionally independent given some set Z**, then: $$P(X∣Y,Z)=P(X∣Z)$$\n",
        "\n",
        "By checking if $P(X∣Y)$ and $P(X)$ are the same, you can determine whether $Y$ influences $X$.\n",
        "\n"
      ],
      "metadata": {
        "id": "B6pVPiC1xtWv"
      }
    },
    {
      "cell_type": "markdown",
      "source": [
        "When can $X$ influence $Y$ and vice versa ?\n",
        "\n",
        "1. $X -> Y$ Yes\n",
        "2. $Y -> X$ Yes\n",
        "\n",
        "We should see\n",
        "1. $P(X|Y) != P(X)$\n",
        "2. $P(Y|X) != P(Y)$"
      ],
      "metadata": {
        "id": "IWdeSxVUyinj"
      }
    },
    {
      "cell_type": "code",
      "source": [
        "Image(filename='students_bn.png')"
      ],
      "metadata": {
        "colab": {
          "base_uri": "https://localhost:8080/",
          "height": 268
        },
        "id": "-DR3uT4a0SIa",
        "outputId": "01694c3f-7407-4e85-c385-bc0819eae62c"
      },
      "execution_count": null,
      "outputs": [
        {
          "output_type": "execute_result",
          "data": {
            "image/png": "[encoded data removed]",
            "text/plain": [
              "<IPython.core.display.Image object>"
            ]
          },
          "metadata": {},
          "execution_count": 20
        }
      ]
    },
    {
      "cell_type": "code",
      "source": [
        "result = inference.query(variables=['D'], evidence={'G': 0})\n",
        "print(\"     P(D|G=0):\", \"\\n\", result)\n",
        "result = inference.query(variables=['D'])\n",
        "print(\"     P(D):\", \"\\n\", result)\n",
        "print('-------------------------------------------------------------')\n",
        "print('-------------------------------------------------------------')\n",
        "result = inference.query(variables=['G'], evidence={'D': 0})\n",
        "print(\"     P(G|D=0):\", \"\\n\", result)\n",
        "result = inference.query(variables=['G'])\n",
        "print(\"     P(G):\", \"\\n\", result)\n",
        "print('-------------------------------------------------------------')\n",
        "print('-------------------------------------------------------------')\n",
        "result = inference.query(variables=['G'], evidence={'I': 0})\n",
        "print(\"     P(G|I=0):\", \"\\n\", result)\n",
        "result = inference.query(variables=['G'])\n",
        "print(\"     P(G):\", \"\\n\", result)"
      ],
      "metadata": {
        "colab": {
          "base_uri": "https://localhost:8080/"
        },
        "id": "Ea_GBhMtwJIx",
        "outputId": "bc446b20-667a-4149-d015-f06008e84169"
      },
      "execution_count": null,
      "outputs": [
        {
          "output_type": "stream",
          "name": "stdout",
          "text": [
            "     P(D|G=0): \n",
            " +------+----------+\n",
            "| D    |   phi(D) |\n",
            "+======+==========+\n",
            "| D(0) |   0.3020 |\n",
            "+------+----------+\n",
            "| D(1) |   0.6980 |\n",
            "+------+----------+\n",
            "     P(D): \n",
            " +------+----------+\n",
            "| D    |   phi(D) |\n",
            "+======+==========+\n",
            "| D(0) |   0.6000 |\n",
            "+------+----------+\n",
            "| D(1) |   0.4000 |\n",
            "+------+----------+\n",
            "-------------------------------------------------------------\n",
            "-------------------------------------------------------------\n",
            "     P(G|D=0): \n",
            " +------+----------+\n",
            "| G    |   phi(G) |\n",
            "+======+==========+\n",
            "| G(0) |   0.2250 |\n",
            "+------+----------+\n",
            "| G(1) |   0.3550 |\n",
            "+------+----------+\n",
            "| G(2) |   0.4200 |\n",
            "+------+----------+\n",
            "     P(G): \n",
            " +------+----------+\n",
            "| G    |   phi(G) |\n",
            "+======+==========+\n",
            "| G(0) |   0.4470 |\n",
            "+------+----------+\n",
            "| G(1) |   0.2714 |\n",
            "+------+----------+\n",
            "| G(2) |   0.2816 |\n",
            "+------+----------+\n",
            "-------------------------------------------------------------\n",
            "-------------------------------------------------------------\n",
            "     P(G|I=0): \n",
            " +------+----------+\n",
            "| G    |   phi(G) |\n",
            "+======+==========+\n",
            "| G(0) |   0.5400 |\n",
            "+------+----------+\n",
            "| G(1) |   0.2720 |\n",
            "+------+----------+\n",
            "| G(2) |   0.1880 |\n",
            "+------+----------+\n",
            "     P(G): \n",
            " +------+----------+\n",
            "| G    |   phi(G) |\n",
            "+======+==========+\n",
            "| G(0) |   0.4470 |\n",
            "+------+----------+\n",
            "| G(1) |   0.2714 |\n",
            "+------+----------+\n",
            "| G(2) |   0.2816 |\n",
            "+------+----------+\n"
          ]
        }
      ]
    },
    {
      "cell_type": "markdown",
      "source": [
        "Suppose $W$ ∉ $D$, the set of evidences\n",
        "\n",
        "3. $X \\rightarrow W \\rightarrow Y$ Yes!\n",
        "4. $X \\leftarrow W \\leftarrow Y$ Yes!\n",
        "5. $X \\leftarrow W \\rightarrow Y$ Yes!\n",
        "\n",
        "\n",
        "By checking if $P(X|Y)$ and $P(X)$ are the same, you can determine whether $Y$ influences $X$.\n",
        "\n",
        "---\n",
        "\n",
        "**Structure 3: $X \\rightarrow W \\rightarrow Y$**\n",
        "\n",
        "- $X$ influences $Y$ through the intermediate variable $W$.\n",
        "- If $W \\notin D$ (not observed), $X$ and $Y$ are **dependent**, because the path $X \\to W \\to Y$ is open.\n",
        "- In this case, $P(X|Y) \\neq P(X)$ since $Y$ provides information about $X$ via $W$.\n",
        "\n",
        "---\n",
        "\n",
        "**Structure 4: $X \\leftarrow W \\leftarrow Y$**\n",
        "\n",
        "- $W$ is a common cause of both $X$ and $Y$.\n",
        "- If $W \\notin D$ (not observed), $X$ and $Y$ are **dependent**, because the path $X \\leftarrow W \\leftarrow Y$ is open.\n",
        "- Here too, $P(X|Y) \\neq P(X)$, as $Y$ provides information about $X$ via their shared cause $W$.\n",
        "\n",
        "---\n",
        "\n",
        "**Structure 5: $X \\leftarrow W \\to Y$**\n",
        "\n",
        "- $W$ is a common cause of $X$ and $Y$.\n",
        "- If $W \\notin D$, $X$ and $Y$ are **dependent**, because the path $X \\leftarrow W \\to Y$ is open.\n",
        "- Similarly, $P(X|Y) \\neq P(X)$, as $Y$ provides information about $X$ via $W$.\n"
      ],
      "metadata": {
        "id": "LVFFynof2e5f"
      }
    },
    {
      "cell_type": "code",
      "source": [
        "Image(filename='students_bn.png')"
      ],
      "metadata": {
        "colab": {
          "base_uri": "https://localhost:8080/",
          "height": 268
        },
        "id": "IF1HYhYJ6F8_",
        "outputId": "88cd1870-4dfe-467c-cac5-9e8dd8832b01"
      },
      "execution_count": null,
      "outputs": [
        {
          "output_type": "execute_result",
          "data": {
            "image/png": "[encoded data removed]",
            "text/plain": [
              "<IPython.core.display.Image object>"
            ]
          },
          "metadata": {},
          "execution_count": 32
        }
      ]
    },
    {
      "cell_type": "code",
      "source": [
        "# Difficulty --> not(Grade) --> Letter\n",
        "result = inference.query(variables=['L'], evidence={'D': 0})\n",
        "print(\"     P(L|D=0):\", \"\\n\", result)\n",
        "result = inference.query(variables=['L'])\n",
        "print(\"     P(L):\", \"\\n\", result)\n",
        "print('-------------------------------------------------------------')\n",
        "print('-------------------------------------------------------------')\n",
        "# Letter <-- not(Grade) <-- Intellegence\n",
        "result = inference.query(variables=['I'], evidence={'L': 0})\n",
        "print(\"     P(I|L=0):\", \"\\n\", result)\n",
        "result = inference.query(variables=['D'])\n",
        "print(\"     P(I):\", \"\\n\", result)\n",
        "print('-------------------------------------------------------------')\n",
        "print('-------------------------------------------------------------')\n",
        "# Grade <- Intellegence --> SAT\n",
        "result = inference.query(variables=['G'], evidence={'S': 0})\n",
        "print(\"     P(G|S=0):\", \"\\n\", result)\n",
        "result = inference.query(variables=['G'])\n",
        "print(\"     P(G):\", \"\\n\", result)"
      ],
      "metadata": {
        "colab": {
          "base_uri": "https://localhost:8080/"
        },
        "id": "guqrukzZ67bG",
        "outputId": "de916ace-9187-4733-e13f-dc08409e3a90"
      },
      "execution_count": null,
      "outputs": [
        {
          "output_type": "stream",
          "name": "stdout",
          "text": [
            "     P(L|D=0): \n",
            " +------+----------+\n",
            "| L    |   phi(L) |\n",
            "+======+==========+\n",
            "| L(0) |   0.5803 |\n",
            "+------+----------+\n",
            "| L(1) |   0.4197 |\n",
            "+------+----------+\n",
            "     P(L): \n",
            " +------+----------+\n",
            "| L    |   phi(L) |\n",
            "+======+==========+\n",
            "| L(0) |   0.4320 |\n",
            "+------+----------+\n",
            "| L(1) |   0.5680 |\n",
            "+------+----------+\n",
            "-------------------------------------------------------------\n",
            "-------------------------------------------------------------\n",
            "     P(I|L=0): \n",
            " +------+----------+\n",
            "| I    |   phi(I) |\n",
            "+======+==========+\n",
            "| I(0) |   0.5653 |\n",
            "+------+----------+\n",
            "| I(1) |   0.4347 |\n",
            "+------+----------+\n",
            "     P(I): \n",
            " +------+----------+\n",
            "| D    |   phi(D) |\n",
            "+======+==========+\n",
            "| D(0) |   0.6000 |\n",
            "+------+----------+\n",
            "| D(1) |   0.4000 |\n",
            "+------+----------+\n",
            "-------------------------------------------------------------\n",
            "-------------------------------------------------------------\n",
            "     P(G|S=0): \n",
            " +------+----------+\n",
            "| G    |   phi(G) |\n",
            "+======+==========+\n",
            "| G(0) |   0.5143 |\n",
            "+------+----------+\n",
            "| G(1) |   0.2718 |\n",
            "+------+----------+\n",
            "| G(2) |   0.2138 |\n",
            "+------+----------+\n",
            "     P(G): \n",
            " +------+----------+\n",
            "| G    |   phi(G) |\n",
            "+======+==========+\n",
            "| G(0) |   0.4470 |\n",
            "+------+----------+\n",
            "| G(1) |   0.2714 |\n",
            "+------+----------+\n",
            "| G(2) |   0.2816 |\n",
            "+------+----------+\n"
          ]
        }
      ]
    },
    {
      "cell_type": "markdown",
      "source": [
        "**Key Idea**\n",
        "\n",
        "- If $X$ and $Y$ are **independent**, then:\n",
        "  $$\n",
        "  P(X|Y) = P(X)\n",
        "  $$\n",
        "- If $X$ and $Y$ are **conditionally independent given some set $Z$**, then:\n",
        "  $$\n",
        "  P(X|Y,Z) = P(X|Z)\n",
        "  $$\n",
        "\n",
        "When $W \\in D$ (observed), the variable $W$ is part of the evidence, and it can block dependency paths between $X$ and $Y$ in the following structures:\n",
        "\n",
        "---\n",
        "\n",
        "**Structure 3: $X \\to W \\to Y$**\n",
        "\n",
        "- $X$ influences $Y$ through the intermediate variable $W$.\n",
        "- If $W \\in D$ (observed), $X$ and $Y$ are **conditionally independent** because the information flow through $W$ is \"blocked.\"\n",
        "- In this case:\n",
        "  $$\n",
        "  P(X|Y, W) = P(X|W)\n",
        "  $$\n",
        "  This means $Y$ provides no additional information about $X$ beyond $W$, so $P(X|Y) = P(X)$ after conditioning on $W$.\n",
        "\n",
        "---\n",
        "\n",
        "**Structure 4: $X \\leftarrow W \\leftarrow Y$**\n",
        "\n",
        "- $W$ is a common cause of both $X$ and $Y$.\n",
        "- If $W \\in D$ (observed), $X$ and $Y$ are **conditionally independent** because the shared dependence on $W$ is fully accounted for by observing $W$.\n",
        "- In this case:\n",
        "  $$\n",
        "  P(X|Y, W) = P(X|W)\n",
        "  $$\n",
        "  Thus, $P(X|Y)$ and $P(X)$ are equal after conditioning on $W$.\n",
        "\n",
        "---\n",
        "\n",
        "**Structure 5: $X \\leftarrow W \\to Y$**\n",
        "\n",
        "- $W$ is a common cause of $X$ and $Y$.\n",
        "- If $W \\in D$ (observed), $X$ and $Y$ are **conditionally independent** because observing $W$ blocks the dependency path.\n",
        "- In this case:\n",
        "  $$\n",
        "  P(X|Y, W) = P(X|W)\n",
        "  $$\n",
        "  Again, $P(X|Y)$ and $P(X)$ are equal after conditioning on $W$.\n",
        "\n",
        "---\n",
        "\n",
        "When $W \\in D$ (observed):\n",
        "- For all structures ($X \\to W \\to Y$, $X \\leftarrow W \\leftarrow Y$, $X \\leftarrow W \\to Y$), $X$ and $Y$ are **conditionally independent** given $W$.\n",
        "- This means that $P(X|Y) = P(X)$ after accounting for $W$.\n",
        "\n",
        "Checking this programmatically in a Bayesian Network would involve verifying that the conditional independence relationships hold by querying $P(X|Y, W)$ and $P(X|W)$ and confirming they are the same. Let me know if you'd like a code example!\n"
      ],
      "metadata": {
        "id": "5kT_3F6i9Db7"
      }
    },
    {
      "cell_type": "code",
      "source": [
        "# Difficulty --> given(Grade) --> Letter\n",
        "result = inference.query(variables=['L'], evidence={'D': 0, 'G':0})\n",
        "print(\"     P(L|D=0,G=0):\", \"\\n\", result)\n",
        "result = inference.query(variables=['L'], evidence={'G':0})\n",
        "print(\"     P(L|G=0):\", \"\\n\", result)\n",
        "print('-------------------------------------------------------------')\n",
        "print('-------------------------------------------------------------')\n",
        "# Letter <-- given(Grade) <-- Intellegence\n",
        "result = inference.query(variables=['I'], evidence={'L': 1, 'G':0})\n",
        "print(\"     P(I|L=1,G=0):\", \"\\n\", result)\n",
        "result = inference.query(variables=['I'], evidence={'G':0})\n",
        "print(\"     P(I|G=0):\", \"\\n\", result)\n",
        "print('-------------------------------------------------------------')\n",
        "print('-------------------------------------------------------------')\n",
        "# Grade <- given(Intellegence) --> SAT\n",
        "result = inference.query(variables=['G'], evidence={'S': 0, 'I':1})\n",
        "print(\"     P(G|S=0, I=1):\", \"\\n\", result)\n",
        "result = inference.query(variables=['G'], evidence={'I':1})\n",
        "print(\"     P(G|I=1):\", \"\\n\", result)"
      ],
      "metadata": {
        "colab": {
          "base_uri": "https://localhost:8080/"
        },
        "id": "6QSyn9Sp90Z2",
        "outputId": "9328ce93-da3b-4b91-b2f6-5ba99e4108e6"
      },
      "execution_count": null,
      "outputs": [
        {
          "output_type": "stream",
          "name": "stdout",
          "text": [
            "     P(L|D=0,G=0): \n",
            " +------+----------+\n",
            "| L    |   phi(L) |\n",
            "+======+==========+\n",
            "| L(0) |   0.1000 |\n",
            "+------+----------+\n",
            "| L(1) |   0.9000 |\n",
            "+------+----------+\n",
            "     P(L|G=0): \n",
            " +------+----------+\n",
            "| L    |   phi(L) |\n",
            "+======+==========+\n",
            "| L(0) |   0.1000 |\n",
            "+------+----------+\n",
            "| L(1) |   0.9000 |\n",
            "+------+----------+\n",
            "-------------------------------------------------------------\n",
            "-------------------------------------------------------------\n",
            "     P(I|L=1,G=0): \n",
            " +------+----------+\n",
            "| I    |   phi(I) |\n",
            "+======+==========+\n",
            "| I(0) |   0.8456 |\n",
            "+------+----------+\n",
            "| I(1) |   0.1544 |\n",
            "+------+----------+\n",
            "     P(I|G=0): \n",
            " +------+----------+\n",
            "| I    |   phi(I) |\n",
            "+======+==========+\n",
            "| I(0) |   0.8456 |\n",
            "+------+----------+\n",
            "| I(1) |   0.1544 |\n",
            "+------+----------+\n",
            "-------------------------------------------------------------\n",
            "-------------------------------------------------------------\n",
            "     P(G|S=0, I=1): \n",
            " +------+----------+\n",
            "| G    |   phi(G) |\n",
            "+======+==========+\n",
            "| G(0) |   0.2300 |\n",
            "+------+----------+\n",
            "| G(1) |   0.2700 |\n",
            "+------+----------+\n",
            "| G(2) |   0.5000 |\n",
            "+------+----------+\n",
            "     P(G|I=1): \n",
            " +------+----------+\n",
            "| G    |   phi(G) |\n",
            "+======+==========+\n",
            "| G(0) |   0.2300 |\n",
            "+------+----------+\n",
            "| G(1) |   0.2700 |\n",
            "+------+----------+\n",
            "| G(2) |   0.5000 |\n",
            "+------+----------+\n",
            "-------------------------------------------------------------\n",
            "-------------------------------------------------------------\n"
          ]
        }
      ]
    },
    {
      "cell_type": "code",
      "source": [
        "Image(filename='students_bn.png')"
      ],
      "metadata": {
        "colab": {
          "base_uri": "https://localhost:8080/",
          "height": 268
        },
        "id": "jyRVT0KdBOq2",
        "outputId": "c8064fb8-1218-4a27-ca7a-2f8152589f42"
      },
      "execution_count": null,
      "outputs": [
        {
          "output_type": "execute_result",
          "data": {
            "image/png": "[encoded data removed]",
            "text/plain": [
              "<IPython.core.display.Image object>"
            ]
          },
          "metadata": {},
          "execution_count": 47
        }
      ]
    },
    {
      "cell_type": "markdown",
      "source": [
        "**Structure 6: $X \\to W \\leftarrow Y$**\n",
        "\n",
        "- $W$ is a common effect (a \"collider\") of both $X$ and $Y$.\n",
        "- The dependency between $X$ and $Y$ depends on the observation of $W$ or its descendants:\n",
        "  - **Yes**, $X$ and $Y$ are conditionally independent if:\n",
        "    - $W \\in D$ (observed) and\n",
        "    - None of $W$'s descendants are observed.\n",
        "  - **No**, $X$ and $Y$ are dependent if:\n",
        "    - $W \\in D$ (observed) and at least one of $W$'s descendants is also observed."
      ],
      "metadata": {
        "id": "xRLQHJBLChmq"
      }
    },
    {
      "cell_type": "code",
      "source": [
        "# Difficulty --> Grade <-- Intellegence\n",
        "result = inference.query(variables=['D'], evidence={'G':0, 'I': 1})\n",
        "print(\"     P(D|G=0,I=1):\", \"\\n\", result)\n",
        "result = inference.query(variables=['D'], evidence={'I':1})\n",
        "print(\"     P(D|I=1):\", \"\\n\", result)\n",
        "print('-------------------------------------------------------------')\n",
        "print('-------------------------------------------------------------')\n",
        "print(\"Say G or its Descendants are not observed, then \")\n",
        "result = inference.query(variables=['D'], evidence={'I': 1})\n",
        "print(\"     P(D|I=1):\", \"\\n\", result)\n",
        "result = inference.query(variables=['D'])\n",
        "print(\"     P(D):\", \"\\n\", result)\n",
        "print('-------------------------------------------------------------')\n",
        "print('-------------------------------------------------------------')\n",
        "print(\"Say the descendant, L is observed, then \")\n",
        "result = inference.query(variables=['D'], evidence={'I': 1, 'L':0})\n",
        "print(\"     P(D|I=1,L=0):\", \"\\n\", result)\n",
        "result = inference.query(variables=['D'], evidence={'L':0})\n",
        "print(\"     P(D|L=0):\", \"\\n\", result)"
      ],
      "metadata": {
        "colab": {
          "base_uri": "https://localhost:8080/"
        },
        "id": "jsn-_bzHL6Fc",
        "outputId": "ed03cca8-735e-4cde-ae47-552fce5aea11"
      },
      "execution_count": null,
      "outputs": [
        {
          "output_type": "stream",
          "name": "stdout",
          "text": [
            "     P(D|G=0,I=1): \n",
            " +------+----------+\n",
            "| D    |   phi(D) |\n",
            "+======+==========+\n",
            "| D(0) |   0.1304 |\n",
            "+------+----------+\n",
            "| D(1) |   0.8696 |\n",
            "+------+----------+\n",
            "     P(D|I=1): \n",
            " +------+----------+\n",
            "| D    |   phi(D) |\n",
            "+======+==========+\n",
            "| D(0) |   0.6000 |\n",
            "+------+----------+\n",
            "| D(1) |   0.4000 |\n",
            "+------+----------+\n",
            "-------------------------------------------------------------\n",
            "-------------------------------------------------------------\n",
            "Say G or its Descendants are not observed, then \n",
            "     P(D|I=1): \n",
            " +------+----------+\n",
            "| D    |   phi(D) |\n",
            "+======+==========+\n",
            "| D(0) |   0.6000 |\n",
            "+------+----------+\n",
            "| D(1) |   0.4000 |\n",
            "+------+----------+\n",
            "     P(D): \n",
            " +------+----------+\n",
            "| D    |   phi(D) |\n",
            "+======+==========+\n",
            "| D(0) |   0.6000 |\n",
            "+------+----------+\n",
            "| D(1) |   0.4000 |\n",
            "+------+----------+\n",
            "-------------------------------------------------------------\n",
            "-------------------------------------------------------------\n",
            "Say the descendant, L is observed, then \n",
            "     P(D|I=1,L=0): \n",
            " +------+----------+\n",
            "| D    |   phi(D) |\n",
            "+======+==========+\n",
            "| D(0) |   0.7649 |\n",
            "+------+----------+\n",
            "| D(1) |   0.2351 |\n",
            "+------+----------+\n",
            "     P(D|L=0): \n",
            " +------+----------+\n",
            "| D    |   phi(D) |\n",
            "+======+==========+\n",
            "| D(0) |   0.8059 |\n",
            "+------+----------+\n",
            "| D(1) |   0.1941 |\n",
            "+------+----------+\n"
          ]
        }
      ]
    }
  ]
}