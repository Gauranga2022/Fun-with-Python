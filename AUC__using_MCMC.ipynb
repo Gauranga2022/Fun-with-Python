{
  "nbformat": 4,
  "nbformat_minor": 0,
  "metadata": {
    "colab": {
      "provenance": [],
      "authorship_tag": "ABX9TyM++TbzNzVb/rcmCz3+Ikn6",
      "include_colab_link": true
    },
    "kernelspec": {
      "name": "python3",
      "display_name": "Python 3"
    },
    "language_info": {
      "name": "python"
    }
  },
  "cells": [
    {
      "cell_type": "markdown",
      "metadata": {
        "id": "view-in-github",
        "colab_type": "text"
      },
      "source": [
        "<a href=\"https://colab.research.google.com/github/Gauranga2022/Fun-with-Python/blob/main/AUC__using_MCMC.ipynb\" target=\"_parent\"><img src=\"https://colab.research.google.com/assets/colab-badge.svg\" alt=\"Open In Colab\"/></a>"
      ]
    },
    {
      "cell_type": "code",
      "source": [
        "import math\n",
        "import random\n",
        "import matplotlib.pyplot as plt\n",
        "import numpy as np\n",
        "from scipy.integrate import quad"
      ],
      "metadata": {
        "id": "mUqt57CCrZai"
      },
      "execution_count": 88,
      "outputs": []
    },
    {
      "cell_type": "markdown",
      "source": [
        "### Finding the area of a semicircle using monte Carlo Simulation and thereby approximating π"
      ],
      "metadata": {
        "id": "qcU9DEqAUUBv"
      }
    },
    {
      "cell_type": "code",
      "execution_count": 52,
      "metadata": {
        "colab": {
          "base_uri": "https://localhost:8080/",
          "height": 465
        },
        "id": "1Y1ZGf0iJjDa",
        "outputId": "63e0bbc6-940a-4563-f6cf-a35c04273d5e"
      },
      "outputs": [
        {
          "output_type": "stream",
          "name": "stdout",
          "text": [
            "Area under the curve = 1.57115\n",
            "The appx. value of pi = 3.1423\n"
          ]
        },
        {
          "output_type": "display_data",
          "data": {
            "text/plain": [
              "<Figure size 640x480 with 1 Axes>"
            ],
            "image/png": "[encoded data removed]"
          },
          "metadata": {}
        }
      ],
      "source": [
        "#The function is a upper semicircle of radius 1 and center (0,0)\n",
        "def f(x):\n",
        "    return math.sqrt(1.0 - x**2)\n",
        "\n",
        "# range of x is: -1 <= x <= 1\n",
        "xmin = -1.0\n",
        "xmax = 1.0\n",
        "\n",
        "# find ymin-ymax\n",
        "numSteps = 1000000 # bigger the better but slower!\n",
        "ymin = f(xmin)\n",
        "ymax = ymin\n",
        "for i in range(numSteps):\n",
        "    x = xmin + (xmax - xmin) * float(i) / numSteps # incremental list of uniformly distribute numSteps points between xmin and xmax\n",
        "    y = f(x)\n",
        "    if y < ymin:\n",
        "      ymin = y\n",
        "    if y > ymax:\n",
        "      ymax = y #find the min and max values of y\n",
        "\n",
        "# Monte Carlo\n",
        "x_list, y_list, x_list1, y_list1 = [],[],[],[]\n",
        "rectArea = (xmax - xmin) * (ymax - ymin)\n",
        "numPoints = 10**6 # bigger the better but slower!\n",
        "ctr = 0\n",
        "for j in range(numPoints):\n",
        "    x = xmin + (xmax - xmin) * random.random() #random.random returns a random number between 0 and 1\n",
        "    y = ymin + (ymax - ymin) * random.random()\n",
        "    x_list.append(x)\n",
        "    y_list.append(y)\n",
        "    if 0 < y <= f(x):\n",
        "        x_list1.append(x)\n",
        "        y_list1.append(y)\n",
        "        ctr += 1\n",
        "    if 0 > y >= f(x):\n",
        "        x_list1.append(x)\n",
        "        y_list1.append(y)\n",
        "        ctr += 1\n",
        "\n",
        "plt.scatter(x_list, y_list, s= 0.5)\n",
        "plt.scatter(x_list1, y_list1, s= 0.5)\n",
        "\n",
        "fnArea = rectArea * float(ctr) / numPoints\n",
        "print(\"Area under the curve = \" + str(fnArea))\n",
        "print(\"The appx. value of pi = \" + str(2*fnArea))"
      ]
    },
    {
      "cell_type": "markdown",
      "source": [
        "### Approximating area under the curve of sin(x) in a domain"
      ],
      "metadata": {
        "id": "JvlJj_oeWAWQ"
      }
    },
    {
      "cell_type": "code",
      "source": [
        "#The function is a upper semicircle of radius 1 and center (0,0)\n",
        "def f(x):\n",
        "    return np.sin(x)\n",
        "\n",
        "# range of x is: -1 <= x <= 1\n",
        "xmin = -10\n",
        "xmax = 10\n",
        "\n",
        "# find ymin-ymax\n",
        "numSteps = 1000000 # bigger the better but slower!\n",
        "ymin = f(xmin)\n",
        "ymax = ymin\n",
        "for i in range(numSteps):\n",
        "    x = xmin + (xmax - xmin) * float(i) / numSteps # incremental list of uniformly distribute numSteps points between xmin and xmax\n",
        "    y = f(x)\n",
        "    if y < ymin:\n",
        "      ymin = y\n",
        "    if y > ymax:\n",
        "      ymax = y #find the min and max values of y\n",
        "\n",
        "# Monte Carlo\n",
        "x_list, y_list, x_list1, y_list1 = [],[],[],[]\n",
        "rectArea = (xmax - xmin) * (ymax - ymin)\n",
        "numPoints = 10**6 # bigger the better but slower!\n",
        "ctr = 0\n",
        "for j in range(numPoints):\n",
        "    x = xmin + (xmax - xmin) * random.random() #random.random returns a random number between 0 and 1\n",
        "    y = ymin + (ymax - ymin) * random.random()\n",
        "    x_list.append(x)\n",
        "    y_list.append(y)\n",
        "    if 0 < y <= f(x):\n",
        "        x_list1.append(x)\n",
        "        y_list1.append(y)\n",
        "        ctr += 1\n",
        "    if 0 > y >= f(x):\n",
        "        x_list1.append(x)\n",
        "        y_list1.append(y)\n",
        "        ctr += 1\n",
        "\n",
        "plt.scatter(x_list, y_list, s= 0.5)\n",
        "plt.scatter(x_list1, y_list1, s= 0.5)\n",
        "\n",
        "fnArea = rectArea * float(ctr) / numPoints\n",
        "print(\"Area under the curve = \" + str(fnArea))"
      ],
      "metadata": {
        "colab": {
          "base_uri": "https://localhost:8080/",
          "height": 447
        },
        "id": "l0yKF6GrSPU9",
        "outputId": "c84d6231-f972-403e-d59f-3782037a10ec"
      },
      "execution_count": 56,
      "outputs": [
        {
          "output_type": "stream",
          "name": "stdout",
          "text": [
            "Area under the curve = 12.338399999983528\n"
          ]
        },
        {
          "output_type": "display_data",
          "data": {
            "text/plain": [
              "<Figure size 640x480 with 1 Axes>"
            ],
            "image/png": "[encoded data removed]"
          },
          "metadata": {}
        }
      ]
    },
    {
      "cell_type": "markdown",
      "source": [
        "### The area under the standard normal distribution is 1\n",
        "\n",
        "It can be observed that for a fixed value of 'numPoints', it will not be able to approximate f(x) for x == (- sufficiently large value, sufficiently large value)"
      ],
      "metadata": {
        "id": "Yker9UvPYWFT"
      }
    },
    {
      "cell_type": "code",
      "source": [
        "#The function is a upper semicircle of radius 1 and center (0,0)\n",
        "def f(x):\n",
        "    return 1/np.sqrt(2*np.pi)*np.exp(-(x**2/2))\n",
        "\n",
        "# range of x is: -1 <= x <= 1\n",
        "xmin = -9\n",
        "xmax = 9\n",
        "\n",
        "# find ymin-ymax\n",
        "numSteps = 1000000 # bigger the better but slower!\n",
        "ymin = f(xmin)\n",
        "ymax = ymin\n",
        "for i in range(numSteps):\n",
        "    x = xmin + (xmax - xmin) * float(i) / numSteps # incremental list of uniformly distribute numSteps points between xmin and xmax\n",
        "    y = f(x)\n",
        "    if y < ymin:\n",
        "      ymin = y\n",
        "    if y > ymax:\n",
        "      ymax = y #find the min and max values of y\n",
        "\n",
        "# Monte Carlo\n",
        "x_list, y_list, x_list1, y_list1 = [],[],[],[]\n",
        "rectArea = (xmax - xmin) * (ymax - ymin)\n",
        "numPoints = 10**6 # bigger the better but slower!\n",
        "ctr = 0\n",
        "for j in range(numPoints):\n",
        "    x = xmin + (xmax - xmin) * random.random() #random.random returns a random number between 0 and 1\n",
        "    y = ymin + (ymax - ymin) * random.random()\n",
        "    x_list.append(x)\n",
        "    y_list.append(y)\n",
        "    if 0 < y <= f(x):\n",
        "        x_list1.append(x)\n",
        "        y_list1.append(y)\n",
        "        ctr += 1\n",
        "    if 0 > y >= f(x):\n",
        "        x_list1.append(x)\n",
        "        y_list1.append(y)\n",
        "        ctr += 1\n",
        "\n",
        "plt.scatter(x_list, y_list, s= 0.5)\n",
        "plt.scatter(x_list1, y_list1, s= 0.5)\n",
        "fnArea = rectArea * float(ctr) / numPoints\n",
        "print(\"Area under the standard normal curve in the interval\", (xmin, xmax), \"is\", str(fnArea))"
      ],
      "metadata": {
        "colab": {
          "base_uri": "https://localhost:8080/",
          "height": 447
        },
        "id": "Nc6UXICJoWsf",
        "outputId": "03f136e7-7d61-4b53-d63c-1bc0cb84c13b"
      },
      "execution_count": 86,
      "outputs": [
        {
          "output_type": "stream",
          "name": "stdout",
          "text": [
            "Area under the standard normal curve in the interval (-9, 9) is 1.001665075516478\n"
          ]
        },
        {
          "output_type": "display_data",
          "data": {
            "text/plain": [
              "<Figure size 640x480 with 1 Axes>"
            ],
            "image/png": "[encoded data removed]"
          },
          "metadata": {}
        }
      ]
    },
    {
      "cell_type": "code",
      "source": [
        "#The function is a upper semicircle of radius 1 and center (0,0)\n",
        "def f(x):\n",
        "    return 1/np.sqrt(2*np.pi)*np.exp(-(x**2/2))\n",
        "for i in range(100):\n",
        "\n",
        "    l = np.linspace(1,100,100)\n",
        "    # range of x is: -1 <= x <= 1\n",
        "    xmin = -l[i]\n",
        "    xmax = l[i]\n",
        "\n",
        "    # find ymin-ymax\n",
        "    numSteps = 1000000 # bigger the better but slower!\n",
        "    ymin = f(xmin)\n",
        "    ymax = ymin\n",
        "    for i in range(numSteps):\n",
        "        x = xmin + (xmax - xmin) * float(i) / numSteps # incremental list of uniformly distribute numSteps points between xmin and xmax\n",
        "        y = f(x)\n",
        "        if y < ymin:\n",
        "          ymin = y\n",
        "        if y > ymax:\n",
        "          ymax = y #find the min and max values of y\n",
        "\n",
        "    # Monte Carlo\n",
        "    x_list, y_list, x_list1, y_list1 = [],[],[],[]\n",
        "    rectArea = (xmax - xmin) * (ymax - ymin)\n",
        "    numPoints = 10**6 # bigger the better but slower!\n",
        "    ctr = 0\n",
        "    for j in range(numPoints):\n",
        "        x = xmin + (xmax - xmin) * random.random() #random.random returns a random number between 0 and 1\n",
        "        y = ymin + (ymax - ymin) * random.random()\n",
        "        x_list.append(x)\n",
        "        y_list.append(y)\n",
        "        if 0 < y <= f(x):\n",
        "            x_list1.append(x)\n",
        "            y_list1.append(y)\n",
        "            ctr += 1\n",
        "        if 0 > y >= f(x):\n",
        "            x_list1.append(x)\n",
        "            y_list1.append(y)\n",
        "            ctr += 1\n",
        "\n",
        "    fnArea = rectArea * float(ctr) / numPoints\n",
        "    print(\"Area under the standard normal curve in the interval\", (xmin, xmax), \"is\", str(fnArea))"
      ],
      "metadata": {
        "colab": {
          "base_uri": "https://localhost:8080/"
        },
        "id": "7JiShmt0V37O",
        "outputId": "3add0269-494c-49a7-cf7d-995cff2e0016"
      },
      "execution_count": 76,
      "outputs": [
        {
          "output_type": "stream",
          "name": "stdout",
          "text": [
            "Area under the standard normal curve in the interval (-1.0, 1.0) is 0.1987102925913901\n",
            "Area under the standard normal curve in the interval (-2.0, 2.0) is 0.737361029541234\n",
            "Area under the standard normal curve in the interval (-3.0, 3.0) is 0.9711584402198993\n",
            "Area under the standard normal curve in the interval (-4.0, 4.0) is 0.9990821675096774\n",
            "Area under the standard normal curve in the interval (-5.0, 5.0) is 0.9963267063650325\n",
            "Area under the standard normal curve in the interval (-6.0, 6.0) is 1.0019307558158401\n",
            "Area under the standard normal curve in the interval (-7.0, 7.0) is 0.9985094420556394\n",
            "Area under the standard normal curve in the interval (-8.0, 8.0) is 1.0018174714675787\n",
            "Area under the standard normal curve in the interval (-9.0, 9.0) is 1.0003796834890246\n",
            "Area under the standard normal curve in the interval (-10.0, 10.0) is 0.9982174163292488\n",
            "Area under the standard normal curve in the interval (-11.0, 11.0) is 0.9957639213047801\n",
            "Area under the standard normal curve in the interval (-12.0, 12.0) is 1.0023281175865053\n",
            "Area under the standard normal curve in the interval (-13.0, 13.0) is 0.9917457746565768\n",
            "Area under the standard normal curve in the interval (-14.0, 14.0) is 1.0038823967109491\n",
            "Area under the standard normal curve in the interval (-15.0, 15.0) is 0.9951495501929618\n",
            "Area under the standard normal curve in the interval (-16.0, 16.0) is 1.003470688277575\n",
            "Area under the standard normal curve in the interval (-17.0, 17.0) is 1.0020839649108995\n",
            "Area under the standard normal curve in the interval (-18.0, 18.0) is 1.00246216219272\n",
            "Area under the standard normal curve in the interval (-19.0, 19.0) is 0.9996073312341675\n",
            "Area under the standard normal curve in the interval (-20.0, 20.0) is 1.001600446867053\n",
            "Area under the standard normal curve in the interval (-21.0, 21.0) is 1.0026536544873128\n",
            "Area under the standard normal curve in the interval (-22.0, 22.0) is 1.0029169563923779\n",
            "Area under the standard normal curve in the interval (-23.0, 23.0) is 0.9942942179437811\n",
            "Area under the standard normal curve in the interval (-24.0, 24.0) is 0.9950514103919831\n",
            "Area under the standard normal curve in the interval (-25.0, 25.0) is 0.9983530567045853\n",
            "Area under the standard normal curve in the interval (-26.0, 26.0) is 0.9949716219359028\n",
            "Area under the standard normal curve in the interval (-27.0, 27.0) is 0.9951304009635025\n",
            "Area under the standard normal curve in the interval (-28.0, 28.0) is 1.0033015367506848\n",
            "Area under the standard normal curve in the interval (-29.0, 29.0) is 0.9997980256441992\n",
            "Area under the standard normal curve in the interval (-30.0, 30.0) is 1.004640387043712\n",
            "Area under the standard normal curve in the interval (-31.0, 31.0) is 1.0026097708364685\n",
            "Area under the standard normal curve in the interval (-32.0, 32.0) is 0.9960663195533244\n",
            "Area under the standard normal curve in the interval (-33.0, 33.0) is 0.9954918426695464\n",
            "Area under the standard normal curve in the interval (-34.0, 34.0) is 0.998123265951074\n",
            "Area under the standard normal curve in the interval (-35.0, 35.0) is 0.9994700950897094\n",
            "Area under the standard normal curve in the interval (-36.0, 36.0) is 1.0093558847980568\n",
            "Area under the standard normal curve in the interval (-37.0, 37.0) is 0.9943213460188485\n",
            "Area under the standard normal curve in the interval (-38.0, 38.0) is 0.9989402997413362\n",
            "Area under the standard normal curve in the interval (-39.0, 39.0) is 0.9960088718649466\n",
            "Area under the standard normal curve in the interval (-40.0, 40.0) is 0.9968769702671\n",
            "Area under the standard normal curve in the interval (-41.0, 41.0) is 1.0013203893862113\n",
            "Area under the standard normal curve in the interval (-42.0, 42.0) is 0.9923657309603205\n",
            "Area under the standard normal curve in the interval (-43.0, 43.0) is 1.004259796108209\n",
            "Area under the standard normal curve in the interval (-44.0, 44.0) is 0.9982301824822217\n",
            "Area under the standard normal curve in the interval (-45.0, 45.0) is 1.009679028045182\n",
            "Area under the standard normal curve in the interval (-46.0, 46.0) is 0.9965514333662924\n",
            "Area under the standard normal curve in the interval (-47.0, 47.0) is 0.9898276601724065\n",
            "Area under the standard normal curve in the interval (-48.0, 48.0) is 0.9959131257176501\n",
            "Area under the standard normal curve in the interval (-49.0, 49.0) is 0.9978559746232052\n",
            "Area under the standard normal curve in the interval (-50.0, 50.0) is 0.9995498835457897\n",
            "Area under the standard normal curve in the interval (-51.0, 51.0) is 0.9962649928089643\n",
            "Area under the standard normal curve in the interval (-52.0, 52.0) is 0.9951790719217115\n",
            "Area under the standard normal curve in the interval (-53.0, 53.0) is 1.0025610998782595\n",
            "Area under the standard normal curve in the interval (-54.0, 54.0) is 1.0045877266626988\n",
            "Area under the standard normal curve in the interval (-55.0, 55.0) is 1.0019953997246505\n",
            "Area under the standard normal curve in the interval (-56.0, 56.0) is 0.9940301181541554\n",
            "Area under the standard normal curve in the interval (-57.0, 57.0) is 1.0018206630058346\n",
            "Area under the standard normal curve in the interval (-58.0, 58.0) is 0.9915375267862072\n",
            "Area under the standard normal curve in the interval (-59.0, 59.0) is 0.9956402491978555\n",
            "Area under the standard normal curve in the interval (-60.0, 60.0) is 0.9936056435678083\n",
            "Area under the standard normal curve in the interval (-61.0, 61.0) is 0.9937636247108472\n",
            "Area under the standard normal curve in the interval (-62.0, 62.0) is 0.9934333005026748\n",
            "Area under the standard normal curve in the interval (-63.0, 63.0) is 0.997844804239354\n",
            "Area under the standard normal curve in the interval (-64.0, 64.0) is 0.999742971609504\n",
            "Area under the standard normal curve in the interval (-65.0, 65.0) is 1.0045765562788476\n",
            "Area under the standard normal curve in the interval (-66.0, 66.0) is 0.9994940316265335\n",
            "Area under the standard normal curve in the interval (-67.0, 67.0) is 1.012018425577456\n",
            "Area under the standard normal curve in the interval (-68.0, 68.0) is 0.9844778441922235\n",
            "Area under the standard normal curve in the interval (-69.0, 69.0) is 1.0069382945788241\n",
            "Area under the standard normal curve in the interval (-70.0, 70.0) is 0.984334224971279\n",
            "Area under the standard normal curve in the interval (-71.0, 71.0) is 0.9793618083883555\n",
            "Area under the standard normal curve in the interval (-72.0, 72.0) is 1.0094133324864345\n",
            "Area under the standard normal curve in the interval (-73.0, 73.0) is 1.0057845535039032\n",
            "Area under the standard normal curve in the interval (-74.0, 74.0) is 0.994764171950094\n",
            "Area under the standard normal curve in the interval (-75.0, 75.0) is 0.9922891340424835\n",
            "Area under the standard normal curve in the interval (-76.0, 76.0) is 1.0041249536174333\n",
            "Area under the standard normal curve in the interval (-77.0, 77.0) is 1.0001347329288581\n",
            "Area under the standard normal curve in the interval (-78.0, 78.0) is 0.9965689868266302\n",
            "Area under the standard normal curve in the interval (-79.0, 79.0) is 1.0057526381214712\n",
            "Area under the standard normal curve in the interval (-80.0, 80.0) is 1.0056537004359316\n",
            "Area under the standard normal curve in the interval (-81.0, 81.0) is 0.9900462805420667\n",
            "Area under the standard normal curve in the interval (-82.0, 82.0) is 1.009727699003391\n",
            "Area under the standard normal curve in the interval (-83.0, 83.0) is 1.0044919805154027\n",
            "Area under the standard normal curve in the interval (-84.0, 84.0) is 1.0098920632229162\n",
            "Area under the standard normal curve in the interval (-85.0, 85.0) is 0.9917346042727256\n",
            "Area under the standard normal curve in the interval (-86.0, 86.0) is 1.0118420930895184\n",
            "Area under the standard normal curve in the interval (-87.0, 87.0) is 1.0019499203046847\n",
            "Area under the standard normal curve in the interval (-88.0, 88.0) is 0.9901555907268967\n",
            "Area under the standard normal curve in the interval (-89.0, 89.0) is 0.9995610539296408\n",
            "Area under the standard normal curve in the interval (-90.0, 90.0) is 1.0005951123204413\n",
            "Area under the standard normal curve in the interval (-91.0, 91.0) is 1.0170857904231152\n",
            "Area under the standard normal curve in the interval (-92.0, 92.0) is 1.014021913709632\n",
            "Area under the standard normal curve in the interval (-93.0, 93.0) is 0.9999631877482856\n",
            "Area under the standard normal curve in the interval (-94.0, 94.0) is 1.0017153422438085\n",
            "Area under the standard normal curve in the interval (-95.0, 95.0) is 1.0061563677092373\n",
            "Area under the standard normal curve in the interval (-96.0, 96.0) is 1.0106197339423686\n",
            "Area under the standard normal curve in the interval (-97.0, 97.0) is 0.99165960312401\n",
            "Area under the standard normal curve in the interval (-98.0, 98.0) is 1.004150485923379\n",
            "Area under the standard normal curve in the interval (-99.0, 99.0) is 0.9828006908454159\n",
            "Area under the standard normal curve in the interval (-100.0, 100.0) is 1.0080473541183401\n"
          ]
        }
      ]
    },
    {
      "cell_type": "code",
      "source": [
        "#The function is a upper semicircle of radius 1 and center (0,0)\n",
        "def f(x):\n",
        "    return 1/np.sqrt(2*np.pi)*np.exp(-(x**2/2))\n",
        "\n",
        "for i in range(5):\n",
        "    l = np.linspace(9,10**5,5)\n",
        "    # range of x is: -1 <= x <= 1\n",
        "    xmin = -l[i]\n",
        "    xmax = l[i]\n",
        "\n",
        "    # find ymin-ymax\n",
        "    numSteps = 10000000 # bigger the better but slower!\n",
        "    ymin = f(xmin)\n",
        "    ymax = ymin\n",
        "    for i in range(numSteps):\n",
        "        x = xmin + (xmax - xmin) * float(i) / numSteps # incremental list of uniformly distribute numSteps points between xmin and xmax\n",
        "        y = f(x)\n",
        "        if y < ymin:\n",
        "          ymin = y\n",
        "        if y > ymax:\n",
        "          ymax = y #find the min and max values of y\n",
        "\n",
        "    # Monte Carlo\n",
        "    x_list, y_list, x_list1, y_list1 = [],[],[],[]\n",
        "    rectArea = (xmax - xmin) * (ymax - ymin)\n",
        "    numPoints = 10**6 # bigger the better but slower!\n",
        "    ctr = 0\n",
        "    for j in range(numPoints):\n",
        "        x = xmin + (xmax - xmin) * random.random() #random.random returns a random number between 0 and 1\n",
        "        y = ymin + (ymax - ymin) * random.random()\n",
        "        x_list.append(x)\n",
        "        y_list.append(y)\n",
        "        if 0 < y <= f(x):\n",
        "            x_list1.append(x)\n",
        "            y_list1.append(y)\n",
        "            ctr += 1\n",
        "        if 0 > y >= f(x):\n",
        "            x_list1.append(x)\n",
        "            y_list1.append(y)\n",
        "            ctr += 1\n",
        "\n",
        "    fnArea = rectArea * float(ctr) / numPoints\n",
        "    print(\"Area under the standard normal curve in the interval\", (xmin, xmax), \"is\", str(fnArea))"
      ],
      "metadata": {
        "colab": {
          "base_uri": "https://localhost:8080/"
        },
        "id": "It8WBGQ5YtJ1",
        "outputId": "e3a9d0d4-c8ac-4099-9567-d6aa9bd83140"
      },
      "execution_count": 83,
      "outputs": [
        {
          "output_type": "stream",
          "name": "stdout",
          "text": [
            "Area under the standard normal curve in the interval (-9.0, 9.0) is 1.0018374185816115\n",
            "Area under the standard normal curve in the interval (-25006.75, 25006.75) is 0.8779099885977105\n",
            "Area under the standard normal curve in the interval (-50004.5, 50004.5) is 0.9575476444960053\n",
            "Area under the standard normal curve in the interval (-75002.25, 75002.25) is 0.8976470595071506\n",
            "Area under the standard normal curve in the interval (-100000.0, 100000.0) is 1.2766152972845848\n"
          ]
        }
      ]
    },
    {
      "cell_type": "markdown",
      "source": [
        "### What happens to the AUC if the curve is not continuous?"
      ],
      "metadata": {
        "id": "DwaIByOmpJug"
      }
    },
    {
      "cell_type": "markdown",
      "source": [
        "### y = log(x) is not continuous at 0, but seems like it works quite well except perhaps by a disagreement by a magnitude of 1.0 or 2.0"
      ],
      "metadata": {
        "id": "HW2uFQ6mp_a1"
      }
    },
    {
      "cell_type": "code",
      "source": [
        "#The function is a upper semicircle of radius 1 and center (0,0)\n",
        "def f(x):\n",
        "    return np.log(x)\n",
        "\n",
        "for i in range(1,8):\n",
        "\n",
        "    # range of x is: -1 <= x <= 1\n",
        "    xmin = 10**(-i)\n",
        "    xmax = 10\n",
        "    # find ymin-ymax\n",
        "    numSteps = 1000000 # bigger the better but slower!\n",
        "    ymin = f(xmin)\n",
        "    ymax = ymin\n",
        "    for i in range(numSteps):\n",
        "        x = xmin + (xmax - xmin) * float(i) / numSteps # incremental list of uniformly distribute numSteps points between xmin and xmax\n",
        "        y = f(x)\n",
        "        if y < ymin:\n",
        "          ymin = y\n",
        "        if y > ymax:\n",
        "          ymax = y #find the min and max values of y\n",
        "\n",
        "    # Monte Carlo\n",
        "    x_list, y_list, x_list1, y_list1 = [],[],[],[]\n",
        "    rectArea = (xmax - xmin) * (ymax - ymin)\n",
        "    numPoints = 10**6 # bigger the better but slower!\n",
        "    ctr = 0\n",
        "    for j in range(numPoints):\n",
        "        x = xmin + (xmax - xmin) * random.random() #random.random returns a random number between 0 and 1\n",
        "        y = ymin + (ymax - ymin) * random.random()\n",
        "        x_list.append(x)\n",
        "        y_list.append(y)\n",
        "        if 0 < y <= f(x):\n",
        "            x_list1.append(x)\n",
        "            y_list1.append(y)\n",
        "            ctr += 1\n",
        "        if 0 > y >= f(x):\n",
        "            x_list1.append(x)\n",
        "            y_list1.append(y)\n",
        "            ctr += 1\n",
        "\n",
        "    plt.scatter(x_list, y_list, s= 0.5)\n",
        "    plt.scatter(x_list1, y_list1, s= 0.5)\n",
        "    fnArea = rectArea * float(ctr) / numPoints\n",
        "\n",
        "    print(\"bounds are:\", (xmin, xmax))\n",
        "    print(\"AUC using MCMC in the interval\", [xmin, xmax], \"is\", str(fnArea))\n",
        "\n",
        "    result, error = quad(f, xmin, xmax)\n",
        "\n",
        "    # Display the result\n",
        "    print(f\"value of actual integration: {result}\")\n",
        "    print(\"--------------------------------------------------------------------\")"
      ],
      "metadata": {
        "colab": {
          "base_uri": "https://localhost:8080/",
          "height": 916
        },
        "id": "EttSwu-Fp5BT",
        "outputId": "33876f27-1737-4a05-b16d-0c79b50e9e77"
      },
      "execution_count": 101,
      "outputs": [
        {
          "output_type": "stream",
          "name": "stdout",
          "text": [
            "bounds are: (0.1, 10)\n",
            "AUC using MCMC in the interval [0.1, 10] is 14.698230103585066\n",
            "value of actual integration: 13.356109439239859\n",
            "--------------------------------------------------------------------\n",
            "bounds are: (0.01, 10)\n",
            "AUC using MCMC in the interval [0.01, 10] is 14.941988931310256\n",
            "value of actual integration: 13.081902631800329\n",
            "--------------------------------------------------------------------\n",
            "bounds are: (0.001, 10)\n",
            "AUC using MCMC in the interval [0.001, 10] is 15.044229514632871\n",
            "value of actual integration: 13.033758685219427\n",
            "--------------------------------------------------------------------\n",
            "bounds are: (0.0001, 10)\n",
            "AUC using MCMC in the interval [0.0001, 10] is 14.997276209288657\n",
            "value of actual integration: 13.026871964001835\n",
            "--------------------------------------------------------------------\n",
            "bounds are: (1e-05, 10)\n",
            "AUC using MCMC in the interval [1e-05, 10] is 14.975168455076904\n",
            "value of actual integration: 13.025976059191533\n",
            "--------------------------------------------------------------------\n",
            "bounds are: (1e-06, 10)\n",
            "AUC using MCMC in the interval [1e-06, 10] is 15.005138714795253\n",
            "value of actual integration: 13.025865745238281\n",
            "--------------------------------------------------------------------\n",
            "bounds are: (1e-07, 10)\n",
            "AUC using MCMC in the interval [1e-07, 10] is 14.955933941352628\n",
            "value of actual integration: 13.025852641641379\n",
            "--------------------------------------------------------------------\n"
          ]
        },
        {
          "output_type": "display_data",
          "data": {
            "text/plain": [
              "<Figure size 640x480 with 1 Axes>"
            ],
            "image/png": "[encoded data removed]"
          },
          "metadata": {}
        }
      ]
    },
    {
      "cell_type": "markdown",
      "source": [
        "### What about x/sinx ? Discontinuous at every values of x when x = 2nπ. As you can see, it doesnt work well with discontinuous functions. Will have increase precision by increasing the number of points but it will not be able to outperform time"
      ],
      "metadata": {
        "id": "EOJsov7mxNxL"
      }
    },
    {
      "cell_type": "code",
      "source": [
        "#The function is a upper semicircle of radius 1 and center (0,0)\n",
        "def f(x):\n",
        "  return x/np.sin(x)\n",
        "\n",
        "# range of x is: -1 <= x <= 1\n",
        "xmin = 1\n",
        "xmax = np.pi -0.000000000000000000000001\n",
        "\n",
        "# find ymin-ymax\n",
        "numSteps = 1000000 # bigger the better but slower!\n",
        "ymin = f(xmin)\n",
        "ymax = ymin\n",
        "for i in range(numSteps):\n",
        "    x = xmin + (xmax - xmin) * float(i) / numSteps # incremental list of uniformly distribute numSteps points between xmin and xmax\n",
        "    y = f(x)\n",
        "    if y < ymin:\n",
        "      ymin = y\n",
        "    if y > ymax:\n",
        "      ymax = y #find the min and max values of y\n",
        "\n",
        "# Monte Carlo\n",
        "x_list, y_list, x_list1, y_list1 = [],[],[],[]\n",
        "rectArea = (xmax - xmin) * (ymax - ymin)\n",
        "numPoints = 10**6 # bigger the better but slower!\n",
        "ctr = 0\n",
        "for j in range(numPoints):\n",
        "    x = xmin + (xmax - xmin) * random.random() #random.random returns a random number between 0 and 1\n",
        "    y = ymin + (ymax - ymin) * random.random()\n",
        "    x_list.append(x)\n",
        "    y_list.append(y)\n",
        "    if 0 < y <= f(x):\n",
        "        x_list1.append(x)\n",
        "        y_list1.append(y)\n",
        "        ctr += 1\n",
        "    if 0 > y >= f(x):\n",
        "        x_list1.append(x)\n",
        "        y_list1.append(y)\n",
        "        ctr += 1\n",
        "\n",
        "plt.scatter(x_list, y_list, s= 0.5)\n",
        "plt.scatter(x_list1, y_list1, s= 0.5)\n",
        "fnArea = rectArea * float(ctr) / numPoints\n",
        "print(\"AUC using MCMC\", (xmin, xmax), \"is\", str(fnArea))\n",
        "result, error = quad(f, xmin, xmax)\n",
        "print(f\"value of actual integration: {result}\")"
      ],
      "metadata": {
        "colab": {
          "base_uri": "https://localhost:8080/",
          "height": 532
        },
        "id": "saDIycwlsbx-",
        "outputId": "e872f4cf-ec9d-4758-ca66-3fde08713bfc"
      },
      "execution_count": 110,
      "outputs": [
        {
          "output_type": "stream",
          "name": "stdout",
          "text": [
            "AUC using MCMC (1, 3.141592653589793) is 50.265407471763815\n",
            "value of actual integration: 123.51063951040986\n"
          ]
        },
        {
          "output_type": "stream",
          "name": "stderr",
          "text": [
            "<ipython-input-110-d9ca8c10e009>:44: IntegrationWarning: Extremely bad integrand behavior occurs at some points of the\n",
            "  integration interval.\n",
            "  result, error = quad(f, xmin, xmax)\n"
          ]
        },
        {
          "output_type": "display_data",
          "data": {
            "text/plain": [
              "<Figure size 640x480 with 1 Axes>"
            ],
            "image/png": "[encoded data removed]"
          },
          "metadata": {}
        }
      ]
    }
  ]
}